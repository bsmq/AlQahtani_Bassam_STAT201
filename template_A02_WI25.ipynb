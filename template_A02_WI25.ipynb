{
 "cells": [
  {
   "cell_type": "raw",
   "metadata": {
    "vscode": {
     "languageId": "raw"
    }
   },
   "source": [
    "---\n",
    "title: \"Assignment 2\"\n",
    "subtitle: \"STAT 201\"\n",
    "author: \"Bassam AlQahtani\"\n",
    "format:\n",
    "  html:\n",
    "    toc: true\n",
    "    embed-resources: true\n",
    "---"
   ]
  },
  {
   "cell_type": "markdown",
   "metadata": {},
   "source": [
    "### Instructions"
   ]
  },
  {
   "cell_type": "markdown",
   "metadata": {},
   "source": [
    "1. **Write your name** on the assignment.\n",
    "\n",
    "2. Write your code in the *Code* cells of the **template provided** to write solutions for the assignment. **Do not open a new notebook**, and work from scratch. Ensure that the solution is written neatly enough to understand and grade.\n",
    "\n",
    "3. Use [Quarto](https://quarto.org/docs/output-formats/html-basics.html) to print the *.ipynb* file as HTML. You will need to open the command prompt, navigate to the directory containing the file, and use the command: `quarto render filename.ipynb --to html`. Submit the HTML file.\n",
    "\n",
    "4. You may talk to a friend, discuss the questions and potential directions for solving them. However, you need to write your own solutions and code separately, and not as a group activity. Do not use AI to solve the problems.\n",
    "\n",
    "5. There are 2 points for cleanliness and organization. The breakdown is as follows:\n",
    "    - Must be an HTML file rendered using Quarto. \n",
    "    - There aren’t excessively long outputs of extraneous information (e.g. no printouts of unnecessary results without good reason, there aren’t long printouts of which iteration a loop is on, there aren’t long sections of commented-out code, etc.). There is no piece of unnecessary / redundant code, and no unnecessary / redundant text\n",
    "    - The code follows the [python style guide](https://peps.python.org/pep-0008/) for naming variables, spaces, indentation, etc.\n",
    "    - The code should be commented and clearly written with intuitive variable names. For example, use variable names such as number_input, factor, hours, instead of a,b,xyz, etc."
   ]
  },
  {
   "cell_type": "markdown",
   "metadata": {},
   "source": [
    "### Question 1 (3 points)"
   ]
  },
  {
   "cell_type": "markdown",
   "metadata": {},
   "source": [
    "a) Write a program that counts down from 5 and then prints the message \"Go\"."
   ]
  },
  {
   "cell_type": "code",
   "execution_count": null,
   "metadata": {},
   "outputs": [
    {
     "name": "stdout",
     "output_type": "stream",
     "text": [
      "5\n",
      "4\n",
      "3\n",
      "2\n",
      "1\n",
      "Go\n"
     ]
    }
   ],
   "source": [
    "for number in range(5, 0, -1): # uses range and -1 step to count down from 5 to 0\n",
    "    print(number)\n",
    "\n",
    "print(\"Go\") # Prints go\n"
   ]
  },
  {
   "cell_type": "markdown",
   "metadata": {},
   "source": [
    "b) Write a program that asks the user for an integer, then counts down from that integer and then prints the message \"Go\". Use a try-except to ensure the user entered an integer. If it is not an integer, return the message \"You must enter an integer\". Show the output of the program if the user inputs `3`. "
   ]
  },
  {
   "cell_type": "code",
   "execution_count": null,
   "metadata": {},
   "outputs": [
    {
     "name": "stdout",
     "output_type": "stream",
     "text": [
      "3\n",
      "2\n",
      "1\n",
      "Go\n"
     ]
    }
   ],
   "source": [
    "try:\n",
    "    number = int(input(\"What is your integer? \"))\n",
    "    for i in range(number, 0, -1): # Counts down from the inputted integer\n",
    "        print(i)\n",
    "    \n",
    "    print(\"Go\")\n",
    "\n",
    "except ValueError:\n",
    "    print(\"Your value should be an integer value\") # Returns this if value is not valid\n",
    "\n"
   ]
  },
  {
   "cell_type": "markdown",
   "metadata": {},
   "source": [
    "c) Copy and modify part b to allow the user to keep entering input until they correctly enter an integer (ie: don't end after the except). Show the output of the program if the user first inputs `8.9` and then inputs `7`. "
   ]
  },
  {
   "cell_type": "code",
   "execution_count": 15,
   "metadata": {},
   "outputs": [
    {
     "name": "stdout",
     "output_type": "stream",
     "text": [
      "Your value is not an integer value, you need to enter an integer value.\n",
      "7\n",
      "6\n",
      "5\n",
      "4\n",
      "3\n",
      "2\n",
      "1\n",
      "Go\n"
     ]
    }
   ],
   "source": [
    "while True:\n",
    "    try:\n",
    "        number = int(input(\"What is your integer? \"))\n",
    "        break # if no value error is raised, it will immediately break and assign the integer value to number and go on with the loop in part b.\n",
    "    except ValueError: #if there is a value error, it will skip the break and immediately go into the exception and continue the loop until no value error is raised.\n",
    "        print(\"Your value is not an integer value, you need to enter an integer value.\")\n",
    "\n",
    "for i in range(number, 0, -1): # Counts down from the inputted integer\n",
    "        print(i)\n",
    "    \n",
    "print(\"Go\")\n"
   ]
  },
  {
   "cell_type": "markdown",
   "metadata": {},
   "source": [
    "### Question 2 (2 points)"
   ]
  },
  {
   "cell_type": "markdown",
   "metadata": {},
   "source": [
    "Print a star formation as follows:\n",
    "\n",
    "                                             * \n",
    "                                             * * \n",
    "                                             * * * \n",
    "                                             * * * * \n",
    "                                             \n",
    "Ask the user to input the height of the formation first. For example, 4 should return the formation above. Show the output of the program if the user inputs `5`. "
   ]
  },
  {
   "cell_type": "code",
   "execution_count": 79,
   "metadata": {},
   "outputs": [
    {
     "name": "stdout",
     "output_type": "stream",
     "text": [
      "* \n",
      "* * \n",
      "* * * \n",
      "* * * * \n",
      "* * * * * \n"
     ]
    }
   ],
   "source": [
    "height = int(input(\"What is the height of your star formation?\"))\n",
    "i = 1\n",
    "while i <= height:\n",
    "    print(\"* \"*i)  # Prints stars until their number reaches the entered height\n",
    "    i+=1\n",
    "\n"
   ]
  },
  {
   "cell_type": "markdown",
   "metadata": {},
   "source": [
    "### Question 3 (6 points)"
   ]
  },
  {
   "cell_type": "markdown",
   "metadata": {},
   "source": [
    "a) Write a program where you play 3 \"Rock, Paper, Scissors\" games against the computer. Simulate a random choice for the computer each game and ask the user to enter either rock, paper, or scissors. Print the number of times the user won out of 3 games. Show the output of the program after playing the game. \n",
    "\n",
    "Recall: rock beats scissors; scissors beats paper; paper beats rock.\n",
    "\n",
    "Example:\n",
    "\n",
    "                                    \"You won <num_win> out of 3 games.\""
   ]
  },
  {
   "cell_type": "code",
   "execution_count": null,
   "metadata": {},
   "outputs": [
    {
     "name": "stdout",
     "output_type": "stream",
     "text": [
      "It is a tie. Both users chose  paper\n",
      "You lost. Computer chose paper\n",
      "You won this one, computer chose scissors\n",
      "You won 1  out of 3 games.\n"
     ]
    }
   ],
   "source": [
    "# import the random function and name the alias rm\n",
    "import random as rm\n",
    "# code to generate a random choice of rock, paper, scissors for the computer\n",
    "numberofwins = 0\n",
    "numberofgames = 0 # initializes counters\n",
    "\n",
    "while numberofgames < 3: # max number of games for message to appear\n",
    "    user_choice = input(\"Rock, paper, or scissors? \").lower().strip()\n",
    "    comp_choice = rm.choice(['rock', 'paper', 'scissors'])\n",
    "    if user_choice == comp_choice: # checks for tie game\n",
    "        print(\"It is a tie. Both users chose \", user_choice)\n",
    "        numberofgames += 1 # adds to number of games\n",
    "    elif (\n",
    "        (user_choice == \"rock\" and comp_choice == \"scissors\") or\n",
    "        (user_choice == \"scissors\" and comp_choice == \"paper\") or\n",
    "        (user_choice == \"paper\" and comp_choice == \"rock\")\n",
    "        ):\n",
    "        print(\"You won this one, computer chose\", comp_choice)\n",
    "        numberofgames += 1\n",
    "        numberofwins += 1 # adds to games won\n",
    "    else:\n",
    "        print(\"You lost. Computer chose\", comp_choice)\n",
    "        numberofgames += 1\n",
    "\n",
    "print(\"You won\", numberofwins, \" out of 3 games.\") # prints this after 3 games are done and loop is exited"
   ]
  },
  {
   "cell_type": "markdown",
   "metadata": {},
   "source": [
    "b) Write a program where you play \"Rock, Paper, Scissors\" games against the computer until you have won 3 games. Simulate a random choice for the computer each game and ask the user to enter either rock, paper, or scissors. Print the number of games it took to win 3 times. Show the output of the program after playing the game.\n",
    "\n",
    "Example:\n",
    "\n",
    "                                    \"You won 3 out of <num_games> games.\""
   ]
  },
  {
   "cell_type": "code",
   "execution_count": null,
   "metadata": {},
   "outputs": [
    {
     "name": "stdout",
     "output_type": "stream",
     "text": [
      "It is a tie. Both users chose  rock\n",
      "You lost. Computer chose paper\n",
      "You won this one, computer chose paper\n",
      "You won this one, computer chose scissors\n",
      "You lost. Computer chose scissors\n",
      "You lost. Computer chose scissors\n",
      "You lost. Computer chose scissors\n",
      "You won this one, computer chose rock\n",
      "You won 3 out of  8 games.\n"
     ]
    }
   ],
   "source": [
    "# import the random function and name the alias rm\n",
    "import random as rm\n",
    "# code to generate a random choice of rock, paper, scissors for the computer\n",
    "numberofwins = 0\n",
    "numberofgames = 0\n",
    "\n",
    "while numberofwins < 3: # sets the max number of wins to 3\n",
    "    user_choice = input(\"Rock, paper, or scissors? \").lower().strip()\n",
    "    comp_choice = rm.choice(['rock', 'paper', 'scissors'])\n",
    "    if user_choice == comp_choice:\n",
    "        print(\"It is a tie. Both users chose \", user_choice)\n",
    "        numberofgames += 1\n",
    "    elif (\n",
    "        (user_choice == \"rock\" and comp_choice == \"scissors\") or\n",
    "        (user_choice == \"scissors\" and comp_choice == \"paper\") or\n",
    "        (user_choice == \"paper\" and comp_choice == \"rock\")\n",
    "        ):\n",
    "        print(\"You won this one, computer chose\", comp_choice)\n",
    "        numberofgames += 1\n",
    "        numberofwins += 1\n",
    "    else:\n",
    "        print(\"You lost. Computer chose\", comp_choice)\n",
    "        numberofgames += 1\n",
    "\n",
    "print(\"You won 3 out of \", numberofgames, \"games.\") # loop exits when 3 games are won"
   ]
  },
  {
   "cell_type": "markdown",
   "metadata": {},
   "source": [
    "### Question 4 (6 points)"
   ]
  },
  {
   "cell_type": "markdown",
   "metadata": {},
   "source": [
    "a) Write a program (loop) that prints all the factors of a positive integer input by the user. A factor is any positive integer that divides the number and leaves no remainder. Show the output of the program if the user inputs `24`. \n",
    "\n",
    "Example: The factors of 8 are 1, 2, 4, 8."
   ]
  },
  {
   "cell_type": "code",
   "execution_count": 80,
   "metadata": {},
   "outputs": [
    {
     "name": "stdout",
     "output_type": "stream",
     "text": [
      "The factors of 24 are 1, 2, 3, 4, 6, 8, 12, 24\n"
     ]
    }
   ],
   "source": [
    "num = int(input(\"Enter a positive integer: \"))\n",
    "factors = []\n",
    "\n",
    "for possiblefactor in range(1, num + 1):\n",
    "    if num % possiblefactor == 0:\n",
    "        factors.append(possiblefactor) # adds factors to list \n",
    "\n",
    "print('The factors of', num, 'are', ', '.join(str(x) for x in factors)) # prints elements of list with comma seperating them"
   ]
  },
  {
   "cell_type": "markdown",
   "metadata": {},
   "source": [
    "b) Write a **function** called `number_of_factors` that takes an integer and returns how many factors the number has. Run your function with `24` to check if it works."
   ]
  },
  {
   "cell_type": "code",
   "execution_count": 81,
   "metadata": {},
   "outputs": [
    {
     "name": "stdout",
     "output_type": "stream",
     "text": [
      "The number of factors of  24  is  8\n"
     ]
    }
   ],
   "source": [
    "num = int(input(\"Enter a positive integer: \"))\n",
    "factors = 0\n",
    "for possiblefactor in range(1, num + 1):\n",
    "    if num % possiblefactor == 0:\n",
    "        factors += 1 # counts number of factors\n",
    "\n",
    "print(\"The number of factors of \", num, \" is \", factors)"
   ]
  },
  {
   "cell_type": "markdown",
   "metadata": {},
   "source": [
    "### Question 5 (6 points)"
   ]
  },
  {
   "cell_type": "markdown",
   "metadata": {},
   "source": [
    "a) Write a program (loop) that identifies whether a positive integer input by the user is prime or not. A prime number is a number whose only divisors are 1 and itself. Show the output when the program is used to check if `89` is prime or not."
   ]
  },
  {
   "cell_type": "code",
   "execution_count": 82,
   "metadata": {},
   "outputs": [
    {
     "name": "stdout",
     "output_type": "stream",
     "text": [
      "89 is prime\n"
     ]
    }
   ],
   "source": [
    "number = int(input(\"Input a positive integer: \"))\n",
    "\n",
    "if number < 2:\n",
    "    print(number, \" is not prime\")\n",
    "\n",
    "else:\n",
    "    for divisors in range(2, number):\n",
    "        if number % divisors == 0: #determines if number is prime if it has a valid divisor\n",
    "            print(number, \" is not prime\")\n",
    "            break\n",
    "    else:\n",
    "        print(number, \"is prime\")"
   ]
  },
  {
   "cell_type": "markdown",
   "metadata": {},
   "source": [
    "b) Write a **function** that checks if a positive integer is prime or not. It should take one integer input and return a boolean. Run your function with `197` to check if it works."
   ]
  },
  {
   "cell_type": "code",
   "execution_count": null,
   "metadata": {},
   "outputs": [
    {
     "name": "stdout",
     "output_type": "stream",
     "text": [
      "True\n"
     ]
    }
   ],
   "source": [
    "def isprime(number):\n",
    "    if number < 2:\n",
    "        return False\n",
    "\n",
    "    else:\n",
    "        for divisors in range(2, number):\n",
    "            if number % divisors == 0:\n",
    "                return False # a valif divisor means it is not prime, therefore returning False to the function\n",
    "                break\n",
    "        else:\n",
    "            return True\n",
    "\n",
    "result = isprime(197)\n",
    "print(result)  "
   ]
  },
  {
   "cell_type": "markdown",
   "metadata": {},
   "source": [
    "### Question 6 (4 points)"
   ]
  },
  {
   "cell_type": "markdown",
   "metadata": {},
   "source": [
    "Write a function that calculates the area of a rectangle. The function should have an input for length (in inches) and width (in inches). And have 2 ouputs: the area in terms of square inches and the area in terms of square feet. There are 12 inches in 1 foot. Run your function with a length of 102 inches and width of 60 inches to check if it works."
   ]
  },
  {
   "cell_type": "code",
   "execution_count": null,
   "metadata": {},
   "outputs": [
    {
     "name": "stdout",
     "output_type": "stream",
     "text": [
      "The area in square inches is  6120\n",
      "The area in square feet is  42.5\n"
     ]
    }
   ],
   "source": [
    "def rectanglearea(leninches, widthinches):\n",
    "    areasqinches = leninches * widthinches # implements formula for area\n",
    "    areasqft = areasqinches / 144 # divides by 144, the factor of conversion between square inches to square feet\n",
    "    return areasqinches, areasqft\n",
    "\n",
    "inchesarea, ftarea = rectanglearea(102, 60)\n",
    "\n",
    "print(\"The area in square inches is \", inchesarea)\n",
    "print(\"The area in square feet is \", ftarea)\n"
   ]
  },
  {
   "cell_type": "markdown",
   "metadata": {},
   "source": [
    "### Question 7 (3 points)"
   ]
  },
  {
   "cell_type": "markdown",
   "metadata": {},
   "source": [
    "Write a function that takes a word and a sentence as two string inputs and returns the number of times the word occurs in the sentence as the output.\n",
    "\n",
    "Run your function with **\"sea\"** and **“Sea shells are on the sea shore when the sea is calm.”** inputs to check if it works. Your function should work for any word and sentence. \n",
    "\n",
    "Note: at this time it does not have to differentiate a distinct word just if it appears in any form. Example: **“The sea gives me nausea.”** would return 2."
   ]
  },
  {
   "cell_type": "code",
   "execution_count": 83,
   "metadata": {},
   "outputs": [
    {
     "name": "stdout",
     "output_type": "stream",
     "text": [
      "3\n"
     ]
    }
   ],
   "source": [
    "def noofoccurrences(word, sentence):\n",
    "    \n",
    "    word = word.lower()\n",
    "    sentence = sentence.lower() # uses lower for both as count is case sensitive\n",
    "    \n",
    "    return sentence.count(word)\n",
    "\n",
    "result = noofoccurrences(\"sea\", \"Sea shells are on the sea shore when the sea is calm.\") # applies function to count occurences\n",
    "\n",
    "print(result)\n"
   ]
  }
 ],
 "metadata": {
  "kernelspec": {
   "display_name": ".venv",
   "language": "python",
   "name": "python3"
  },
  "language_info": {
   "codemirror_mode": {
    "name": "ipython",
    "version": 3
   },
   "file_extension": ".py",
   "mimetype": "text/x-python",
   "name": "python",
   "nbconvert_exporter": "python",
   "pygments_lexer": "ipython3",
   "version": "3.13.3"
  }
 },
 "nbformat": 4,
 "nbformat_minor": 4
}
