{
 "cells": [
  {
   "cell_type": "raw",
   "metadata": {
    "vscode": {
     "languageId": "raw"
    }
   },
   "source": [
    "---\n",
    "title: \"Assignment 1\"\n",
    "subtitle: \"STAT 201\"\n",
    "author: \"Bassam AlQahtani\"\n",
    "format:\n",
    "  html:\n",
    "    toc: true\n",
    "    embed-resources: true\n",
    "jupyter: python3\n",
    "---"
   ]
  },
  {
   "cell_type": "markdown",
   "metadata": {},
   "source": [
    "## Instructions {-}\n",
    "\n",
    "1. **Write your name** on the assignment.\n",
    "\n",
    "2. Write your code in the *Code* cells of the **template provided** to write solutions for the assignment. **Do not open a new notebook**, and work from scratch. Ensure that the solution is written neatly enough to understand and grade.\n",
    "\n",
    "3. Use [Quarto](https://quarto.org/docs/output-formats/html-basics.html) to print the *.ipynb* file as HTML. You will need to open the command prompt, navigate to the directory containing the file, and use the command: `quarto render filename.ipynb --to html`. Submit the HTML file.\n",
    "\n",
    "4. You may talk to a friend, discuss the questions and potential directions for solving them. However, you need to write your own solutions and code separately, and not as a group activity. Do not use AI to solve the problems.\n",
    "\n",
    "5. If your document is not clean and organized, you can lose up to 2 points:\n",
    "\n",
    "    - Must be an HTML file rendered using Quarto. \n",
    "    - There aren’t excessively long outputs of extraneous information (e.g. no printouts of unnecessary results without good reason, there aren’t long printouts of which iteration a loop is on, there aren’t long sections of commented-out code, etc.). There is no piece of unnecessary / redundant code, and no unnecessary / redundant text\n",
    "    - The code follows the [python style guide](https://peps.python.org/pep-0008/) for naming variables, spaces, indentation, etc.\n",
    "    - The code should be commented and clearly written with intuitive variable names. For example, use variable names such as number_input, factor, hours, instead of a,b,xyz, etc.\n",
    "\n",
    "6. If your document does not include the output of your code, you may lose up to 5 points."
   ]
  },
  {
   "cell_type": "markdown",
   "metadata": {},
   "source": [
    "## Question 1 (4 points)"
   ]
  },
  {
   "cell_type": "markdown",
   "metadata": {},
   "source": [
    "a) Create a a variable called `var_float` that contains a decimal number."
   ]
  },
  {
   "cell_type": "code",
   "execution_count": null,
   "metadata": {},
   "outputs": [],
   "source": [
    "var_float = 0.5"
   ]
  },
  {
   "cell_type": "markdown",
   "metadata": {},
   "source": [
    "b) Store a sentence as `var_sent` that reads exactly as follows: \"The square of `{}` is `{}`.\" Where the first `{}` is your `var_float` and the second `{}` is the square of that variable. Print your sentence."
   ]
  },
  {
   "cell_type": "code",
   "execution_count": null,
   "metadata": {},
   "outputs": [
    {
     "name": "stdout",
     "output_type": "stream",
     "text": [
      "The square of 0.5 is 0.25.\n"
     ]
    }
   ],
   "source": [
    "var_float = 0.5\n",
    "var_sent = \"The square of {} is {}.\".format(var_float, var_float**2) #F string used here to print var_float and double stars used to square var_float\n",
    "print(var_sent)"
   ]
  },
  {
   "cell_type": "markdown",
   "metadata": {},
   "source": [
    "c) Print the output of using the `count` **method** to determine how many spaces are in `var_sent`."
   ]
  },
  {
   "cell_type": "code",
   "execution_count": null,
   "metadata": {},
   "outputs": [
    {
     "name": "stdout",
     "output_type": "stream",
     "text": [
      "The number of spaces is 5\n"
     ]
    }
   ],
   "source": [
    "var_sent = \"The square of 0.5 is 0.25.\"\n",
    "noofspaces = var_sent.count(\" \") # counts the number of spaces as in the quotation\n",
    "print(\"The number of spaces is\", noofspaces)"
   ]
  },
  {
   "cell_type": "markdown",
   "metadata": {},
   "source": [
    "d) Round your `var_float` to 0 decimal places and convert to an integer. Store this as `var_int` and print the `type` to verify this was done correctly."
   ]
  },
  {
   "cell_type": "code",
   "execution_count": null,
   "metadata": {},
   "outputs": [
    {
     "name": "stdout",
     "output_type": "stream",
     "text": [
      "var_float rounded to 0 decimals: 0\n",
      "Type is: <class 'int'>\n"
     ]
    }
   ],
   "source": [
    "var_float = 0.5\n",
    "var_int = int(round(var_float)) #rounds var_float\n",
    "print(\"var_float rounded to 0 decimals:\", var_int)\n",
    "print(\"Type is:\", type(var_int)) # extracts the type of var_float after converting to integer"
   ]
  },
  {
   "cell_type": "markdown",
   "metadata": {},
   "source": [
    "## Question 2 (3 points)"
   ]
  },
  {
   "cell_type": "markdown",
   "metadata": {},
   "source": [
    "Have a user input 2 Booleans (hint: must be type bool). In a **single print line**, using only `and`, `or`, `not` functions, have the output return True if both variables are the same, and False is they are different. \n",
    "\n",
    "Clarification: 1) cannot use conditional if statements 2) this must be capable of printing the correct output for any possible booleans the user could enter, not just the one example that your html will show."
   ]
  },
  {
   "cell_type": "code",
   "execution_count": null,
   "metadata": {},
   "outputs": [
    {
     "name": "stdout",
     "output_type": "stream",
     "text": [
      "False\n"
     ]
    }
   ],
   "source": [
    "bool1 = bool(input(\"First boolean: \") ==\"True\")\n",
    "bool2 = bool(input(\"Second boolean: \") ==\"True\") # For these two arguments, the condition will detect if the string input is \"True\" and assign it a True boolean value.\n",
    "print((bool1 and bool2) or (not bool1 and not bool2)) # The first argument checks if both bool1 and bool2 are True, and the second argument checks if both bool1 and bool2 are False, and if either is correct, it will be assigned a True value due to the or function."
   ]
  },
  {
   "cell_type": "markdown",
   "metadata": {},
   "source": [
    "## Question 3 (6 points)"
   ]
  },
  {
   "cell_type": "markdown",
   "metadata": {},
   "source": [
    "At Northwestern, email addresses are classified as follows:\n",
    "\n",
    "- **Student email addresses** end with `@u.northwestern.edu`.\n",
    "- **Professor email addresses** end with `@northwestern.edu` (but not `@u.northwestern.edu`).\n",
    "\n",
    "Write a Python program that:\n",
    "1. Asks the user how many email addresses they will enter.\n",
    "2. Prompts the user to input each email address.\n",
    "3. After all email addresses are entered:\n",
    "   - Print all professor email addresses under the heading `\"Professor Emails:\"`.\n",
    "   - Print all student email addresses under the heading `\"Student Emails:\"`.\n",
    "   - If no professor or student emails were entered, print `\"None\"` under the respective heading.\n",
    "\n",
    "### Requirements:\n",
    "- Do not use lists or other advanced data structures, since we have not covered them yet.\n",
    "- Use only basic string operations and loops.\n",
    "- **The program must handle all cases**, regardless of uppercase or lowercase in the email addresses.\n",
    "- **Trim any leading or trailing whitespace** in the user input before classifying the email.\n",
    "\n",
    "**Example Run:**\n",
    "\n",
    "How many email addresses will you be entering? 3 <br>\n",
    "Enter an email address: lshi@northwestern.edu  <br>\n",
    "Enter an email address: jackyu@u.northwestern.edu  <br>\n",
    "Enter an email address:   Alexa@u.northwestern.edu  <br>\n",
    "\n",
    "**Output:**\n",
    "\n",
    "Professor Emails: <br>\n",
    "lshi@northwestern.edu <br>\n",
    "\n",
    "Student Emails: <br>\n",
    "jackyu@u.northwestern.edu <br>\n",
    "alexa@u.northwestern.edu <br>\n"
   ]
  },
  {
   "cell_type": "code",
   "execution_count": null,
   "metadata": {},
   "outputs": [
    {
     "name": "stdout",
     "output_type": "stream",
     "text": [
      "Professor Emails:\n",
      "cu@northwestern.edu\n",
      "ep@northwestern.edu\n",
      "\n",
      "Student Emails:\n",
      "cu@u.northwestern.edu\n",
      "\n"
     ]
    }
   ],
   "source": [
    "numofaddresses = int(input(\"Enter number of email addresses: \"))\n",
    "profaddresses = \"Professor Emails:\\n\" # \\n here enters new line to start list of addresses\n",
    "studentaddresses = \"Student Emails:\\n\"\n",
    "prof = False # declaring boolean values to detect if email it prof or student email\n",
    "student = False\n",
    "i = 0\n",
    "while i < numofaddresses:\n",
    "    address = input(\"Enter an email address: \").strip().lower() # removes spaces and converts to lowercase\n",
    "\n",
    "    if address[-19:] == \"@u.northwestern.edu\": # checks if the last 19 characheters correpond to the ending of student addresses\n",
    "        studentaddresses += address + \"\\n\"# adds address to student addresses\n",
    "        student = True\n",
    "    elif address[-17:] == \"@northwestern.edu\": # checks if the last 17 characters correspond to the ending of professor addresses\n",
    "        profaddresses += address + \"\\n\"\n",
    "        prof = True\n",
    "    i += 1\n",
    "\n",
    "print(profaddresses if prof else \"Professor Emails:\\nNone\") # Prints none if there is no professor addresses\n",
    "print(studentaddresses if student else \"Student Emails:\\nNone\")\n"
   ]
  },
  {
   "cell_type": "markdown",
   "metadata": {},
   "source": [
    "## Question 4 (3 points)"
   ]
  },
  {
   "cell_type": "markdown",
   "metadata": {},
   "source": [
    "Write a tip calculator program that asks the user for the price of the meal and the percent tip they want to leave. Then print a sentence that displays both the tip amount and total bill. Example if meal price is 25 dollars and tip is 15 percent:\n",
    "                                   \n",
    "                                   Your tip amount is $3.75 and your total bill is $28.75."
   ]
  },
  {
   "cell_type": "code",
   "execution_count": null,
   "metadata": {},
   "outputs": [
    {
     "name": "stdout",
     "output_type": "stream",
     "text": [
      "Your tip amount is $1.50 and your total bill is $31.50\n"
     ]
    }
   ],
   "source": [
    "price = float(input(\"What is your meals's price? \")) #takes input for meal price\n",
    "percentage = float(input(\"What was the tip percentage? \")) # takes input for tip percent\n",
    "tip = price*(percentage/100) #calculates tip\n",
    "total = price + tip\n",
    "\n",
    "print(f\"Your tip amount is ${tip:.2f} and your total bill is ${total:.2f}\") # prints tip and total amount up to 2 decimal digits\n"
   ]
  },
  {
   "cell_type": "markdown",
   "metadata": {},
   "source": [
    "## Question 5 (3 points)"
   ]
  },
  {
   "cell_type": "markdown",
   "metadata": {},
   "source": [
    "Write a program that asks the user for a number of seconds and prints out how many minutes and seconds that is. Example:\n",
    "\n",
    "                                    200 seconds is 3 minutes and 20 seconds.\n",
    "                                               \n",
    "**Use only two lines of code for this question: one line for the input and one line for the print.** "
   ]
  },
  {
   "cell_type": "code",
   "execution_count": null,
   "metadata": {},
   "outputs": [
    {
     "name": "stdout",
     "output_type": "stream",
     "text": [
      "2000 seconds is 33 minutes and 20 seconds.\n"
     ]
    }
   ],
   "source": [
    "noofseconds = int(input(\"Number of seconds: \"))\n",
    "print(f\"{noofseconds} seconds is {int((noofseconds)/60)} minutes and {noofseconds % 60} seconds.\") # converts number of seconds to minutes and deletes the decimal by converting to int, then calculating remainder of seconds after finding minutes"
   ]
  },
  {
   "cell_type": "markdown",
   "metadata": {},
   "source": [
    "## Question 6 (4 points)"
   ]
  },
  {
   "cell_type": "markdown",
   "metadata": {},
   "source": [
    "Write a program that asks the user to enter two numbers. Have the program return one of the following messages depending on which criteria is met. \n",
    "\n",
    "\"`num1` is greater than `num2`\"; \"`num 1` is less than `num2`\"; \"`num1` is equal to `num2`\"; where `num1` and `num2` are the user inputed values.\n",
    "\n",
    "Show the output of the program with any two numbers of your choice."
   ]
  },
  {
   "cell_type": "code",
   "execution_count": 70,
   "metadata": {},
   "outputs": [
    {
     "name": "stdout",
     "output_type": "stream",
     "text": [
      "4.0 is less than 6.0\n"
     ]
    }
   ],
   "source": [
    "firstnumber = float(input(\"What is your first number? \"))\n",
    "secondnumber = float(input(\"What is your second number? \"))\n",
    "\n",
    "if firstnumber > secondnumber: \n",
    "    print(str(firstnumber) + \" is greater than \" + str(secondnumber)) # indicates that first number is greater\n",
    "elif firstnumber < secondnumber:\n",
    "    print(str(firstnumber) + \" is less than \" + str(secondnumber))\n",
    "else:\n",
    "    print(str(firstnumber) + \" is equal to \" + str(secondnumber)) # if not greater or less, number is equal\n"
   ]
  },
  {
   "cell_type": "markdown",
   "metadata": {},
   "source": [
    "## Question 7 (4 points)"
   ]
  },
  {
   "cell_type": "markdown",
   "metadata": {},
   "source": [
    "a) Use a **single if-elif-else** statement to print the smallest of 3 user defined numbers. Show the output of the program with any three numbers of your choice."
   ]
  },
  {
   "cell_type": "code",
   "execution_count": null,
   "metadata": {},
   "outputs": [
    {
     "name": "stdout",
     "output_type": "stream",
     "text": [
      "The smallest number is 2.0\n"
     ]
    }
   ],
   "source": [
    "firstnumber = float(input(\"What is your first number? \"))\n",
    "secondnumber = float(input(\"What is your second number? \"))\n",
    "thirdnumber = float(input(\"What is your third number? \")) # takes in numbers\n",
    "\n",
    "if firstnumber <= secondnumber and firstnumber <= thirdnumber:\n",
    "    print(\"The smallest number is:\", firstnumber) # finds smallest number from first try\n",
    "elif secondnumber <= firstnumber and secondnumber <= thirdnumber: # tries with second number\n",
    "    print(\"The smallest number is:\", secondnumber)\n",
    "else:\n",
    "    print(\"The smallest number is\", thirdnumber)\n"
   ]
  },
  {
   "cell_type": "markdown",
   "metadata": {},
   "source": [
    "b) Use a **nested** conditional statement to print the smallest of 3 user defined numbers. Show the output of the program with any three numbers of your choice."
   ]
  },
  {
   "cell_type": "code",
   "execution_count": null,
   "metadata": {},
   "outputs": [
    {
     "name": "stdout",
     "output_type": "stream",
     "text": [
      "The smallest number is 2.0\n"
     ]
    }
   ],
   "source": [
    "firstnumber = float(input(\"What is your first number? \"))\n",
    "secondnumber = float(input(\"What is your second number? \"))\n",
    "thirdnumber = float(input(\"What is your third number? \"))\n",
    "\n",
    "if firstnumber < secondnumber:\n",
    "    if firstnumber < thirdnumber: # uses nesting\n",
    "        smallestnumber = firstnumber\n",
    "    else:\n",
    "        smallestnumber = thirdnumber\n",
    "else:\n",
    "    if secondnumber < thirdnumber:\n",
    "        smallestnumber = secondnumber\n",
    "    else:\n",
    "        smallestnumber = thirdnumber\n",
    "\n",
    "print(\"The smallest number is\", smallestnumber)\n"
   ]
  },
  {
   "cell_type": "markdown",
   "metadata": {},
   "source": [
    "## Question 8 (6 points)"
   ]
  },
  {
   "cell_type": "markdown",
   "metadata": {},
   "source": [
    "Write a program that asks the user to enter either rock, paper, or scissors. Use a conditional statement to determine if the user wins, loses, or ties the computer at the game \"Rock, Paper, Scissors\". Note: rock beats scissors; scissors beats paper; paper beats rock\n",
    "\n",
    "Print a meaningful sentence that includes the winner, the computer's choice, and the user's choice.\n",
    "\n",
    "- Handle case sensitivity (example: if the user enters Rock, it will still run). \n",
    "- If the user enters a word other than one of the choices, print \"Invalid choice.\". \n",
    "- Show the output of the program when the user enters Rock (capitalized)"
   ]
  },
  {
   "cell_type": "code",
   "execution_count": null,
   "metadata": {},
   "outputs": [
    {
     "name": "stdout",
     "output_type": "stream",
     "text": [
      "You won. You chose paper and computer chose rock.\n"
     ]
    }
   ],
   "source": [
    "# starter code to generate a random choice of rock, paper, scissors\n",
    "import random as rm\n",
    "comp_choice = rm.choice(['rock', 'paper', 'scissors'])\n",
    "\n",
    "# your solution in this code chunk below\n",
    "user_choice = input(\"Rock, paper, or scissors? \").lower().strip() # converts to all lowercase and removes spaces\n",
    "\n",
    "if user_choice == \"rock\" or user_choice == \"paper\" or user_choice == \"scissors\": # checks for valid input\n",
    "    if user_choice == comp_choice: #checks for tie\n",
    "        print(f\"Tie. Computer chose {comp_choice} and you chose {user_choice}.\")\n",
    "    elif (user_choice == 'rock' and comp_choice == 'scissors') or \\\n",
    "         (user_choice == 'scissors' and comp_choice == 'paper') or \\\n",
    "         (user_choice == 'paper' and comp_choice == 'rock'): # checks for wins\n",
    "        print(f\"You won. You chose {user_choice} and computer chose {comp_choice}.\")\n",
    "    else: # any other outcome is a loss\n",
    "        print(f\"You lose. You chose {user_choice} and computer chose {comp_choice}.\")\n",
    "else:\n",
    "    print(\"Invalid choice.\")\n"
   ]
  },
  {
   "cell_type": "markdown",
   "metadata": {},
   "source": [
    "## Bonus (6 points)\n",
    "\n",
    "FFor all questions in this assignment that involve accepting user input:\n",
    "\n",
    "- Use a **`try-except` block** to handle cases where the user may enter invalid input (e.g., non-numeric values).\n",
    "- Implement a **loop** that repeatedly prompts the user until a valid value is provided, so the program can proceed safely.\n",
    "- To receive credit, you must **revise each applicable question** by modifying your code to include both the input loop and error handling directly in that question’s solution.\n",
    "\n",
    "Each revised question is worth **1 point**."
   ]
  }
 ],
 "metadata": {
  "kernelspec": {
   "display_name": ".venv",
   "language": "python",
   "name": "python3"
  },
  "language_info": {
   "codemirror_mode": {
    "name": "ipython",
    "version": 3
   },
   "file_extension": ".py",
   "mimetype": "text/x-python",
   "name": "python",
   "nbconvert_exporter": "python",
   "pygments_lexer": "ipython3",
   "version": "3.13.3"
  }
 },
 "nbformat": 4,
 "nbformat_minor": 4
}
